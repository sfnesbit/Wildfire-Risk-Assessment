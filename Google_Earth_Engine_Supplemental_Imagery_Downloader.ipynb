{
  "nbformat": 4,
  "nbformat_minor": 0,
  "metadata": {
    "colab": {
      "name": "Google Earth Engine Supplemental Imagery Downloader.ipynb",
      "provenance": [],
      "collapsed_sections": [
        "9U5mwwEvaEIS",
        "KKzjPB1_Xypl",
        "E0ad0UTLKx2r"
      ],
      "include_colab_link": true
    },
    "kernelspec": {
      "name": "python3",
      "display_name": "Python 3"
    },
    "language_info": {
      "name": "python"
    }
  },
  "cells": [
    {
      "cell_type": "markdown",
      "metadata": {
        "id": "view-in-github",
        "colab_type": "text"
      },
      "source": [
        "<a href=\"https://colab.research.google.com/github/sfnesbit/Wildfire-Risk-Assessment/blob/main/Google_Earth_Engine_Supplemental_Imagery_Downloader.ipynb\" target=\"_parent\"><img src=\"https://colab.research.google.com/assets/colab-badge.svg\" alt=\"Open In Colab\"/></a>"
      ]
    },
    {
      "cell_type": "markdown",
      "source": [
        "# Setup"
      ],
      "metadata": {
        "id": "Ds4dRV99U1nx"
      }
    },
    {
      "cell_type": "code",
      "execution_count": null,
      "metadata": {
        "colab": {
          "base_uri": "https://localhost:8080/"
        },
        "id": "vkKBkWy0R5cg",
        "outputId": "3c525e50-0e16-4a9d-8099-c61867c80ad6"
      },
      "outputs": [
        {
          "output_type": "stream",
          "name": "stdout",
          "text": [
            "Mounted at /content/drive/\n"
          ]
        }
      ],
      "source": [
        "# Cloud authentication.\n",
        "from google.colab import drive\n",
        "drive.mount('/content/drive/', force_remount=True)"
      ]
    },
    {
      "cell_type": "code",
      "source": [
        "# Import, authenticate and initialize the Earth Engine library.\n",
        "import ee\n",
        "#Start Eath Engine w/ minimal authentication popups\n",
        "try:\n",
        "    ee.Initialize()\n",
        "    print(\"Earth Engine initilized successfully!\")\n",
        "except ee.EEException as e:\n",
        "    try:\n",
        "        ee.Authenticate()\n",
        "        ee.Initialize()\n",
        "    except ee.EEException as e2:\n",
        "        print(\"Earth Engine could not be initialized!\")\n",
        "        exit()"
      ],
      "metadata": {
        "colab": {
          "base_uri": "https://localhost:8080/"
        },
        "id": "3tnSM9N6S3Ai",
        "outputId": "67bbe279-ff4b-4c10-ed9a-3a3c18602a5c"
      },
      "execution_count": null,
      "outputs": [
        {
          "output_type": "stream",
          "name": "stdout",
          "text": [
            "To authorize access needed by Earth Engine, open the following URL in a web browser and follow the instructions. If the web browser does not start automatically, please manually browse the URL below.\n",
            "\n",
            "    https://accounts.google.com/o/oauth2/auth?client_id=517222506229-vsmmajv00ul0bs7p89v5m89qs8eb9359.apps.googleusercontent.com&scope=https%3A%2F%2Fwww.googleapis.com%2Fauth%2Fearthengine+https%3A%2F%2Fwww.googleapis.com%2Fauth%2Fdevstorage.full_control&redirect_uri=urn%3Aietf%3Awg%3Aoauth%3A2.0%3Aoob&response_type=code&code_challenge=Pg4xLmwlm_3PfjqYkyeltUxscM48kvWLtmHYMU76ODc&code_challenge_method=S256\n",
            "\n",
            "The authorization workflow will generate a code, which you should paste in the box below. \n",
            "Enter verification code: 4/1AX4XfWi-1tuzPBIWkvavRx4EBlNJEOJUK3jO611eOVnDBfwjaX5a4owmzgI\n",
            "\n",
            "Successfully saved authorization token.\n"
          ]
        }
      ]
    },
    {
      "cell_type": "code",
      "source": [
        "import os\n",
        "import cv2\n",
        "import imageio\n",
        "import requests\n",
        "\n",
        "import numpy as np\n",
        "from io import BytesIO\n",
        "from datetime import datetime, timedelta\n",
        "directory = \"/content/drive/MyDrive/Thesis\""
      ],
      "metadata": {
        "id": "hsYWiPBhTD2G"
      },
      "execution_count": null,
      "outputs": []
    },
    {
      "cell_type": "markdown",
      "source": [
        "# Helper Functions"
      ],
      "metadata": {
        "id": "-1hhPIyOu_4o"
      }
    },
    {
      "cell_type": "code",
      "source": [
        "# [(sw_lon, sw_lat), (ne_lon, ne_lat)]\n",
        "def rectangleGeoJSON(coords):\n",
        "  sw_lon = coords[0][0]\n",
        "  sw_lat = coords[0][1]\n",
        "  ne_lon = coords[1][0]\n",
        "  ne_lat = coords[1][1]\n",
        "  return ee.Geometry.Rectangle([[sw_lon, sw_lat], [ne_lon, ne_lat]])"
      ],
      "metadata": {
        "id": "GLpALIEIYTOc"
      },
      "execution_count": null,
      "outputs": []
    },
    {
      "cell_type": "code",
      "source": [
        "def parseFilename(filename, burned):\n",
        "  tokens = filename[:-4].split(\"_\")\n",
        "  dateStr = tokens[0]\n",
        "  tile = (float(tokens[1]), float(tokens[2]))\n",
        "  return (tile, dateStr, burned)"
      ],
      "metadata": {
        "id": "DTWB1RWmTLQ0"
      },
      "execution_count": null,
      "outputs": []
    },
    {
      "cell_type": "markdown",
      "source": [
        "# Define supplemental products to retrieve"
      ],
      "metadata": {
        "id": "OORM6V5OU7PO"
      }
    },
    {
      "cell_type": "code",
      "source": [
        "def getPrecipitationThumbnailUrl(coords, date, prevMonths=6, side=0.1):\n",
        "  # Get bounding box over tile\n",
        "  sw_lon = coords[0]\n",
        "  sw_lat = coords[1]\n",
        "  ne_lon = sw_lon + side\n",
        "  ne_lat = sw_lat + side\n",
        "  area = rectangleGeoJSON([(sw_lon, sw_lat),(ne_lon, ne_lat)])\n",
        "\n",
        "  # Get start of precipitation collection range\n",
        "  dateObj = datetime.strptime(date, '%Y-%m-%d')\n",
        "  dateObj = dateObj + timedelta(days=(-30*prevMonths))\n",
        "  startDate = datetime.strftime(dateObj, '%Y-%m-%d')\n",
        "\n",
        "  img = ee.ImageCollection(\"UCSB-CHG/CHIRPS/DAILY\").filterDate(startDate, date).mean()\n",
        "\n",
        "  url = img.select('precipitation').getThumbURL({\n",
        "        \"region\": area,\n",
        "        \"dimensions\": \"64x64\",\n",
        "        \"format\": \"png\",\n",
        "        \"min\": 0, \"max\": 15\n",
        "      })\n",
        "  \n",
        "  return url\n",
        "\n",
        "\n",
        "def getFireHistory(coords, date, side=0.1, tolerance=0):\n",
        "  # Get bounding box over tile\n",
        "  sw_lon = coords[0]\n",
        "  sw_lat = coords[1]\n",
        "  ne_lon = sw_lon + side\n",
        "  ne_lat = sw_lat + side\n",
        "  area = rectangleGeoJSON([(sw_lon, sw_lat),(ne_lon, ne_lat)])\n",
        "\n",
        "  fire = ee.ImageCollection('FIRMS').select('T21')\n",
        "\n",
        "  # Break date into int values for easier year subtractions\n",
        "  split = [int(val) for val in date.split(\"-\")]\n",
        "  year = split[0]\n",
        "  month = split[1]\n",
        "  day = split[2]\n",
        "\n",
        "  # 1 year\n",
        "  start = f'{year-1}-{month}-{day}'\n",
        "  end = f'{year}-{((month-2)%12)+1}-{day}' # back 1 month to move far from potential current burn date\n",
        "  fireOne = fire.filterDate(start, end).filterBounds(area).max().rename('1yr')\n",
        "\n",
        "  # 5 years\n",
        "  start = f'{year-5}-{month}-{day}'\n",
        "  end = f'{year-1}-{month}-{day}'\n",
        "  fireFive = fire.filterDate(start, end).filterBounds(area).max().rename('5yr')\n",
        "\n",
        "  # 10 years\n",
        "  start = f'{year-10}-{month}-{day}'\n",
        "  end = f'{year-5}-{month}-{day}'\n",
        "  fireTen = fire.filterDate(start, end).filterBounds(area).max().rename('10yr')\n",
        "\n",
        "\n",
        "  # Combine images\n",
        "  multiImg = fireOne.addBands(fireFive).addBands(fireTen)\n",
        "\n",
        "  # Reduce and get info\n",
        "  imgDict = multiImg.reduceRegion(\n",
        "        reducer= ee.Reducer.max(),\n",
        "        geometry= area,\n",
        "        scale=1000\n",
        "  ).getInfo()\n",
        "\n",
        "  fireOneMax  = imgDict['1yr']\n",
        "  fireFiveMax = imgDict['5yr']\n",
        "  fireTenMax  = imgDict['10yr']\n",
        "\n",
        "  # is there a burned area greater than the given tolerance?\n",
        "  oneBurned  = fireOneMax  > tolerance if fireOneMax  is not None else False\n",
        "  fiveBurned = fireFiveMax > tolerance if fireFiveMax is not None else False\n",
        "  tenBurned  = fireTenMax  > tolerance if fireTenMax  is not None else False\n",
        "  \n",
        "  # Make numpy imgs with 1s if burned, 0s if not\n",
        "  one  = np.reshape(np.zeros(64*64), (64,64)) + oneBurned\n",
        "  five = np.reshape(np.zeros(64*64), (64,64)) + fiveBurned\n",
        "  ten  = np.reshape(np.zeros(64*64), (64,64)) + tenBurned\n",
        "\n",
        "\n",
        "  return np.dstack((one,five,ten))\n",
        "\n"
      ],
      "metadata": {
        "id": "ZppCx17WU-lE"
      },
      "execution_count": null,
      "outputs": []
    },
    {
      "cell_type": "code",
      "source": [
        "def url_to_numpy(url):\n",
        "  # Download, convert to numpy\n",
        "  res = requests.get(url)\n",
        "  img = imageio.imread(BytesIO(res.content))\n",
        "\n",
        "  # Grayscale there is more than 1 color band\n",
        "  if len(img.shape) > 2:\n",
        "    img = cv2.cvtColor(img, cv2.COLOR_BGR2GRAY)\n",
        "  return img"
      ],
      "metadata": {
        "id": "ojY2NDQyakGy"
      },
      "execution_count": null,
      "outputs": []
    },
    {
      "cell_type": "markdown",
      "source": [
        "# Parse existing data"
      ],
      "metadata": {
        "id": "CtaQC8iZU36P"
      }
    },
    {
      "cell_type": "code",
      "source": [
        "burned = os.listdir(directory+'/climate/burned')\n",
        "unburned = os.listdir(directory+'/climate/unburned/')"
      ],
      "metadata": {
        "id": "8wiDqT5aT5oh"
      },
      "execution_count": null,
      "outputs": []
    },
    {
      "cell_type": "code",
      "source": [
        "burnedTiles = []\n",
        "for filename in burned:\n",
        "  fullPath = os.path.join(directory+'/climate/burned', filename)\n",
        "  tileInfo = parseFilename(filename, True) # ((long,lat), date, burned)\n",
        "  burnedTiles.append((fullPath, tileInfo))\n",
        "\n",
        "\n",
        "unburnedTiles = []\n",
        "for filename in unburned:\n",
        "  fullPath = os.path.join(directory+'/climate/unburned', filename)\n",
        "  tileInfo = parseFilename(filename, False) # ((long,lat), date, burned)\n",
        "  unburnedTiles.append((fullPath, tileInfo))"
      ],
      "metadata": {
        "id": "JiBwboJ-AiW4"
      },
      "execution_count": null,
      "outputs": []
    },
    {
      "cell_type": "code",
      "source": [
        "print(len(unburnedTiles), len(burnedTiles))"
      ],
      "metadata": {
        "colab": {
          "base_uri": "https://localhost:8080/"
        },
        "id": "H1bQshHoAUOq",
        "outputId": "d3c080d3-2651-417a-925f-381d238be757"
      },
      "execution_count": null,
      "outputs": [
        {
          "output_type": "stream",
          "name": "stdout",
          "text": [
            "27932 3110\n"
          ]
        }
      ]
    },
    {
      "cell_type": "markdown",
      "source": [
        "# Download Precipitation"
      ],
      "metadata": {
        "id": "9U5mwwEvaEIS"
      }
    },
    {
      "cell_type": "markdown",
      "source": [
        "## Burned"
      ],
      "metadata": {
        "id": "KKzjPB1_Xypl"
      }
    },
    {
      "cell_type": "code",
      "source": [
        "burnedURLs = []\n",
        "\n",
        "for filename, tileInfo in burnedTiles:\n",
        "  burnedURLs.append((filename, getPrecipitationThumbnailUrl(tileInfo[0], tileInfo[1])))"
      ],
      "metadata": {
        "id": "eqrWSLpoZrac"
      },
      "execution_count": null,
      "outputs": []
    },
    {
      "cell_type": "code",
      "source": [
        "tot = len(burnedURLs)\n",
        "i = 1\n",
        "for filename, url in burnedURLs:\n",
        "  img = url_to_numpy(url)\n",
        "  oldImg = np.load(filename)\n",
        "  newImg = np.dstack((oldImg, img))\n",
        "  np.save(filename, newImg)\n",
        "  print(\"\\r{}/{}\".format(i,tot), end='')\n",
        "  i += 1"
      ],
      "metadata": {
        "colab": {
          "base_uri": "https://localhost:8080/"
        },
        "id": "227TLP_3bEXA",
        "outputId": "ccc54fbf-4ba0-4e39-c84f-f9f3c9967413"
      },
      "execution_count": null,
      "outputs": [
        {
          "output_type": "stream",
          "name": "stdout",
          "text": [
            "3110/3110"
          ]
        }
      ]
    },
    {
      "cell_type": "code",
      "source": [
        "a = np.load(burnedURLs[0][0])\n",
        "a.shape"
      ],
      "metadata": {
        "colab": {
          "base_uri": "https://localhost:8080/"
        },
        "id": "r3ArCEdXXkHa",
        "outputId": "2c705d55-c59e-4498-d68d-445267588fbf"
      },
      "execution_count": null,
      "outputs": [
        {
          "output_type": "execute_result",
          "data": {
            "text/plain": [
              "(64, 64, 13)"
            ]
          },
          "metadata": {},
          "execution_count": 19
        }
      ]
    },
    {
      "cell_type": "markdown",
      "source": [
        "## Unburned"
      ],
      "metadata": {
        "id": "kvQmgeNDX3Nz"
      }
    },
    {
      "cell_type": "code",
      "source": [
        "unburnedURLs = []\n",
        "tot = len(unburnedTiles)\n",
        "i = 1\n",
        "for filename, tileInfo in unburnedTiles:\n",
        "  print(\"\\r{}/{}\".format(i,tot), end='')\n",
        "  i += 1\n",
        "  oldImg = np.load(filename)\n",
        "  if oldImg.shape != (64,64,12):\n",
        "    continue\n",
        "  url = getPrecipitationThumbnailUrl(tileInfo[0], tileInfo[1])\n",
        "  img = url_to_numpy(url)\n",
        "  newImg = np.dstack((oldImg, img))\n",
        "  np.save(filename, newImg)\n"
      ],
      "metadata": {
        "colab": {
          "base_uri": "https://localhost:8080/"
        },
        "id": "g6AQcQ1eX4c2",
        "outputId": "423eaba8-f6a7-4bd0-f229-6eb24a183ec6"
      },
      "execution_count": null,
      "outputs": [
        {
          "output_type": "stream",
          "name": "stdout",
          "text": [
            "27932/27932"
          ]
        }
      ]
    },
    {
      "cell_type": "code",
      "source": [
        "for filename, _ in unburnedTiles:\n",
        "  if np.load(filename).shape != (64,64,13):\n",
        "    print(filename)"
      ],
      "metadata": {
        "id": "FxAeO__2cRMR"
      },
      "execution_count": null,
      "outputs": []
    },
    {
      "cell_type": "code",
      "source": [
        "i = 1\n",
        "for filename, url in unburnedURLs:\n",
        "  img = url_to_numpy(url)\n",
        "  oldImg = np.load(filename)\n",
        "  newImg = np.dstack((oldImg, img))\n",
        "  np.save(filename, newImg)\n",
        "  print(\"\\r{}/{}\".format(i,tot), end='')\n",
        "  i += 1"
      ],
      "metadata": {
        "id": "V54ANWwRYIZ8"
      },
      "execution_count": null,
      "outputs": []
    },
    {
      "cell_type": "markdown",
      "source": [
        "## Confirm\n",
        "\n",
        "Checks if any files created do not have all 13 channels"
      ],
      "metadata": {
        "id": "Jpw_vArHLWxc"
      }
    },
    {
      "cell_type": "code",
      "source": [
        "i = 1\n",
        "tot = len(burnedTiles)\n",
        "for filename, _ in burnedTiles:\n",
        "  print(f'\\r{i}/{tot}', end ='')\n",
        "  i += 1\n",
        "  npy = np.load(filename)\n",
        "  if npy.shape != (64,64,13):\n",
        "    print(filename)\n",
        "\n",
        "i = 1\n",
        "tot = len(unburnedTiles)\n",
        "for filename, _ in unburnedTiles:\n",
        "  print(f'\\r{i}/{tot}', end ='')\n",
        "  i += 1\n",
        "  npy = np.load(filename)\n",
        "  if npy.shape != (64,64,13):\n",
        "    print(filename)"
      ],
      "metadata": {
        "colab": {
          "base_uri": "https://localhost:8080/"
        },
        "id": "lpK1w-7DLXtL",
        "outputId": "7dd80fe7-7380-47c8-c3eb-838cba70d8dc"
      },
      "execution_count": null,
      "outputs": [
        {
          "output_type": "stream",
          "name": "stdout",
          "text": [
            "27932/27932"
          ]
        }
      ]
    },
    {
      "cell_type": "markdown",
      "source": [
        "# Fire History"
      ],
      "metadata": {
        "id": "CjOAe-EGMpLW"
      }
    },
    {
      "cell_type": "markdown",
      "source": [
        "## Burned"
      ],
      "metadata": {
        "id": "E0ad0UTLKx2r"
      }
    },
    {
      "cell_type": "code",
      "source": [
        "tot = len(burnedTiles)\n",
        "i = 1\n",
        "for filename, tileInfo in burnedTiles:\n",
        "  print(\"\\r{}/{}\".format(i,tot), end='')\n",
        "  i += 1\n",
        "  oldImg = np.load(filename)\n",
        "  if oldImg.shape != (64,64,13):\n",
        "    continue\n",
        "  history = getFireHistory(tileInfo[0], tileInfo[1])\n",
        "  newImg = np.dstack((oldImg, history))\n",
        "  np.save(filename, newImg)"
      ],
      "metadata": {
        "id": "EIOGaSbqMsKO",
        "colab": {
          "base_uri": "https://localhost:8080/"
        },
        "outputId": "edc85d94-303f-42f9-ced2-8a97e6b4e99f"
      },
      "execution_count": null,
      "outputs": [
        {
          "output_type": "stream",
          "name": "stdout",
          "text": [
            "3110/3110"
          ]
        }
      ]
    },
    {
      "cell_type": "code",
      "source": [
        "tot = len(burnedTiles)\n",
        "i = 1\n",
        "for filename, _ in burnedTiles:\n",
        "  print(f\"\\r{i}/{tot}\", end='')\n",
        "  i += 1\n",
        "  img = np.load(filename)\n",
        "  if img.shape != (64,64,16):\n",
        "    print(filename)"
      ],
      "metadata": {
        "id": "El9WO0sOry1e"
      },
      "execution_count": null,
      "outputs": []
    },
    {
      "cell_type": "markdown",
      "source": [
        "## Unburned"
      ],
      "metadata": {
        "id": "xNil-bSSsm_-"
      }
    },
    {
      "cell_type": "code",
      "source": [
        "def getShape(filename):\n",
        "  with open(filename, 'rb') as f:\n",
        "    major, minor = np.lib.format.read_magic(f)\n",
        "    shape, fortran, dtype = np.lib.format.read_array_header_1_0(f)\n",
        "  return shape"
      ],
      "metadata": {
        "id": "Bv1DTVCBTzqa"
      },
      "execution_count": null,
      "outputs": []
    },
    {
      "cell_type": "code",
      "source": [
        "tot = len(unburnedTiles)\n",
        "i = 1\n",
        "for filename, tileInfo in unburnedTiles:\n",
        "  print(\"\\r{}/{}\".format(i,tot), end='')\n",
        "  i += 1\n",
        "  if getShape(filename) == (64,64,16):\n",
        "    continue\n",
        "  oldImg = np.load(filename)\n",
        "  history = getFireHistory(tileInfo[0], tileInfo[1])\n",
        "  newImg = np.dstack((oldImg, history))\n",
        "  np.save(filename, newImg)"
      ],
      "metadata": {
        "colab": {
          "base_uri": "https://localhost:8080/"
        },
        "id": "1b5vtwuTsmhu",
        "outputId": "4ef6e7ca-74c3-4ea3-c26f-faa931ef19aa"
      },
      "execution_count": null,
      "outputs": [
        {
          "output_type": "stream",
          "name": "stdout",
          "text": [
            "27932/27932"
          ]
        }
      ]
    },
    {
      "cell_type": "code",
      "source": [
        "print(\"yay\")"
      ],
      "metadata": {
        "colab": {
          "base_uri": "https://localhost:8080/"
        },
        "id": "jZXeJJbfZ_RQ",
        "outputId": "4aaa7df1-9f73-4583-85db-aa2fb23d220e"
      },
      "execution_count": null,
      "outputs": [
        {
          "output_type": "stream",
          "name": "stdout",
          "text": [
            "yay\n"
          ]
        }
      ]
    }
  ]
}